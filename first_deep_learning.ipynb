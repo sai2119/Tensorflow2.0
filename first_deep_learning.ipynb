{
  "nbformat": 4,
  "nbformat_minor": 0,
  "metadata": {
    "colab": {
      "name": "first deep learning.ipynb",
      "provenance": [],
      "authorship_tag": "ABX9TyOWEoxT5bxUqoEf0O8d49Mt",
      "include_colab_link": true
    },
    "kernelspec": {
      "name": "python3",
      "display_name": "Python 3"
    }
  },
  "cells": [
    {
      "cell_type": "markdown",
      "metadata": {
        "id": "view-in-github",
        "colab_type": "text"
      },
      "source": [
        "<a href=\"https://colab.research.google.com/github/sai2119/Tensorflow2.0/blob/master/first_deep_learning.ipynb\" target=\"_parent\"><img src=\"https://colab.research.google.com/assets/colab-badge.svg\" alt=\"Open In Colab\"/></a>"
      ]
    },
    {
      "cell_type": "markdown",
      "metadata": {
        "id": "Hisi_whdT_ED",
        "colab_type": "text"
      },
      "source": [
        "Importing packages "
      ]
    },
    {
      "cell_type": "code",
      "metadata": {
        "id": "LUWVIAGMTdSo",
        "colab_type": "code",
        "colab": {}
      },
      "source": [
        "import numpy as np\n",
        "import matplotlib.pyplot as plt\n",
        "import tensorflow as tf"
      ],
      "execution_count": 0,
      "outputs": []
    },
    {
      "cell_type": "markdown",
      "metadata": {
        "id": "dNXa3LrgUS_u",
        "colab_type": "text"
      },
      "source": [
        "Initializing data"
      ]
    },
    {
      "cell_type": "code",
      "metadata": {
        "id": "p9DRg-mGT9Pd",
        "colab_type": "code",
        "colab": {}
      },
      "source": [
        "obs=100000\n",
        "xs = np.random.uniform(low=-10, high=10, size=(obs,1))\n",
        "zs = np.random.uniform(-10, 10, (obs,1))\n",
        "generated_inputs = np.column_stack((xs,zs))\n",
        "noise = np.random.uniform(-1, 1, (obs,1))\n",
        "generated_targets = 2*xs - 3*zs + 5 + noise\n",
        "\n",
        "# save into an npz file called \"TF_intro\"\n",
        "np.savez('TF_intro', inputs=generated_inputs, targets=generated_targets)"
      ],
      "execution_count": 0,
      "outputs": []
    },
    {
      "cell_type": "code",
      "metadata": {
        "id": "t9DFBLi1VM-C",
        "colab_type": "code",
        "colab": {}
      },
      "source": [
        "data = np.load('TF_intro.npz')"
      ],
      "execution_count": 0,
      "outputs": []
    },
    {
      "cell_type": "code",
      "metadata": {
        "id": "gKEYC7uBVgQk",
        "colab_type": "code",
        "colab": {
          "base_uri": "https://localhost:8080/",
          "height": 1000
        },
        "outputId": "1e1ac696-ce3f-4b5c-eec6-cf73425382b0"
      },
      "source": [
        "# Declare a variable where we will store the input size of our model\n",
        "# It should be equal to the number of variables you have\n",
        "input_size = 2\n",
        "# Declare the output size of the model\n",
        "# It should be equal to the number of outputs you've got (for regressions that's usually 1)\n",
        "output_size = 1\n",
        "\n",
        "# Outline the model\n",
        "# We lay out the model in 'Sequential'\n",
        "# Note that there are no calculations involved - we are just describing our network\n",
        "model = tf.keras.Sequential([\n",
        "                            # Each 'layer' is listed here\n",
        "                            # The method 'Dense' indicates, our mathematical operation to be (xw + b)\n",
        "                            tf.keras.layers.Dense(output_size,\n",
        "                                                 # there are extra arguments you can include to customize your model\n",
        "                                                 # in our case we are just trying to create a solution that is \n",
        "                                                 # as close as possible to our NumPy model\n",
        "                                                kernel_initializer=tf.random_uniform_initializer(minval=-0.01,maxval=0.1, seed=1525),\n",
        "                                                bias_initializer=tf.random_uniform_initializer(minval=-0.01,maxval=0.1, seed=1525)\n",
        "                                                 )\n",
        "                            ])\n",
        "\n",
        "# We can also define a custom optimizer, where we can specify the learning rate\n",
        "custom_optimizer = tf.keras.optimizers.SGD(learning_rate=0.01)\n",
        "# Note that sometimes you may also need a custom loss function \n",
        "# That's much harder to implement and won't be covered in this course though\n",
        "\n",
        "# 'compile' is the place where you select and indicate the optimizers and the loss\n",
        "model.compile(optimizer=custom_optimizer, loss='mean_squared_error')\n",
        "\n",
        "# finally we fit the model, indicating the inputs and targets\n",
        "# if they are not otherwise specified the number of epochs will be 1 (a single epoch of training), \n",
        "# so the number of epochs is 'kind of' mandatory, too\n",
        "# we can play around with verbose; we prefer verbose=2\n",
        "model.fit(data['inputs'],data['targets'], epochs=100, verbose=2)"
      ],
      "execution_count": 5,
      "outputs": [
        {
          "output_type": "stream",
          "text": [
            "Epoch 1/100\n",
            "3125/3125 - 3s - loss: 0.6795\n",
            "Epoch 2/100\n",
            "3125/3125 - 3s - loss: 0.3449\n",
            "Epoch 3/100\n",
            "3125/3125 - 3s - loss: 0.3455\n",
            "Epoch 4/100\n",
            "3125/3125 - 4s - loss: 0.3448\n",
            "Epoch 5/100\n",
            "3125/3125 - 4s - loss: 0.3445\n",
            "Epoch 6/100\n",
            "3125/3125 - 4s - loss: 0.3451\n",
            "Epoch 7/100\n",
            "3125/3125 - 3s - loss: 0.3448\n",
            "Epoch 8/100\n",
            "3125/3125 - 3s - loss: 0.3444\n",
            "Epoch 9/100\n",
            "3125/3125 - 3s - loss: 0.3447\n",
            "Epoch 10/100\n",
            "3125/3125 - 3s - loss: 0.3444\n",
            "Epoch 11/100\n",
            "3125/3125 - 3s - loss: 0.3450\n",
            "Epoch 12/100\n",
            "3125/3125 - 3s - loss: 0.3447\n",
            "Epoch 13/100\n",
            "3125/3125 - 3s - loss: 0.3449\n",
            "Epoch 14/100\n",
            "3125/3125 - 3s - loss: 0.3454\n",
            "Epoch 15/100\n",
            "3125/3125 - 3s - loss: 0.3449\n",
            "Epoch 16/100\n",
            "3125/3125 - 3s - loss: 0.3447\n",
            "Epoch 17/100\n",
            "3125/3125 - 3s - loss: 0.3447\n",
            "Epoch 18/100\n",
            "3125/3125 - 3s - loss: 0.3452\n",
            "Epoch 19/100\n",
            "3125/3125 - 3s - loss: 0.3446\n",
            "Epoch 20/100\n",
            "3125/3125 - 3s - loss: 0.3445\n",
            "Epoch 21/100\n",
            "3125/3125 - 3s - loss: 0.3451\n",
            "Epoch 22/100\n",
            "3125/3125 - 3s - loss: 0.3448\n",
            "Epoch 23/100\n",
            "3125/3125 - 3s - loss: 0.3447\n",
            "Epoch 24/100\n",
            "3125/3125 - 3s - loss: 0.3450\n",
            "Epoch 25/100\n",
            "3125/3125 - 3s - loss: 0.3448\n",
            "Epoch 26/100\n",
            "3125/3125 - 3s - loss: 0.3446\n",
            "Epoch 27/100\n",
            "3125/3125 - 3s - loss: 0.3447\n",
            "Epoch 28/100\n",
            "3125/3125 - 3s - loss: 0.3451\n",
            "Epoch 29/100\n",
            "3125/3125 - 3s - loss: 0.3448\n",
            "Epoch 30/100\n",
            "3125/3125 - 3s - loss: 0.3451\n",
            "Epoch 31/100\n",
            "3125/3125 - 3s - loss: 0.3447\n",
            "Epoch 32/100\n",
            "3125/3125 - 3s - loss: 0.3451\n",
            "Epoch 33/100\n",
            "3125/3125 - 3s - loss: 0.3451\n",
            "Epoch 34/100\n",
            "3125/3125 - 3s - loss: 0.3448\n",
            "Epoch 35/100\n",
            "3125/3125 - 3s - loss: 0.3448\n",
            "Epoch 36/100\n",
            "3125/3125 - 3s - loss: 0.3448\n",
            "Epoch 37/100\n",
            "3125/3125 - 3s - loss: 0.3450\n",
            "Epoch 38/100\n",
            "3125/3125 - 3s - loss: 0.3449\n",
            "Epoch 39/100\n",
            "3125/3125 - 3s - loss: 0.3454\n",
            "Epoch 40/100\n",
            "3125/3125 - 3s - loss: 0.3451\n",
            "Epoch 41/100\n",
            "3125/3125 - 3s - loss: 0.3452\n",
            "Epoch 42/100\n",
            "3125/3125 - 3s - loss: 0.3452\n",
            "Epoch 43/100\n",
            "3125/3125 - 3s - loss: 0.3452\n",
            "Epoch 44/100\n",
            "3125/3125 - 3s - loss: 0.3452\n",
            "Epoch 45/100\n",
            "3125/3125 - 3s - loss: 0.3453\n",
            "Epoch 46/100\n",
            "3125/3125 - 3s - loss: 0.3452\n",
            "Epoch 47/100\n",
            "3125/3125 - 3s - loss: 0.3445\n",
            "Epoch 48/100\n",
            "3125/3125 - 3s - loss: 0.3446\n",
            "Epoch 49/100\n",
            "3125/3125 - 3s - loss: 0.3449\n",
            "Epoch 50/100\n",
            "3125/3125 - 3s - loss: 0.3452\n",
            "Epoch 51/100\n",
            "3125/3125 - 3s - loss: 0.3443\n",
            "Epoch 52/100\n",
            "3125/3125 - 3s - loss: 0.3455\n",
            "Epoch 53/100\n",
            "3125/3125 - 3s - loss: 0.3448\n",
            "Epoch 54/100\n",
            "3125/3125 - 3s - loss: 0.3450\n",
            "Epoch 55/100\n",
            "3125/3125 - 3s - loss: 0.3449\n",
            "Epoch 56/100\n",
            "3125/3125 - 3s - loss: 0.3457\n",
            "Epoch 57/100\n",
            "3125/3125 - 3s - loss: 0.3447\n",
            "Epoch 58/100\n",
            "3125/3125 - 3s - loss: 0.3453\n",
            "Epoch 59/100\n",
            "3125/3125 - 3s - loss: 0.3456\n",
            "Epoch 60/100\n",
            "3125/3125 - 3s - loss: 0.3449\n",
            "Epoch 61/100\n",
            "3125/3125 - 3s - loss: 0.3451\n",
            "Epoch 62/100\n",
            "3125/3125 - 3s - loss: 0.3452\n",
            "Epoch 63/100\n",
            "3125/3125 - 3s - loss: 0.3447\n",
            "Epoch 64/100\n",
            "3125/3125 - 3s - loss: 0.3444\n",
            "Epoch 65/100\n",
            "3125/3125 - 3s - loss: 0.3443\n",
            "Epoch 66/100\n",
            "3125/3125 - 3s - loss: 0.3447\n",
            "Epoch 67/100\n",
            "3125/3125 - 3s - loss: 0.3446\n",
            "Epoch 68/100\n",
            "3125/3125 - 3s - loss: 0.3454\n",
            "Epoch 69/100\n",
            "3125/3125 - 3s - loss: 0.3443\n",
            "Epoch 70/100\n",
            "3125/3125 - 3s - loss: 0.3451\n",
            "Epoch 71/100\n",
            "3125/3125 - 3s - loss: 0.3450\n",
            "Epoch 72/100\n",
            "3125/3125 - 3s - loss: 0.3450\n",
            "Epoch 73/100\n",
            "3125/3125 - 3s - loss: 0.3455\n",
            "Epoch 74/100\n",
            "3125/3125 - 3s - loss: 0.3451\n",
            "Epoch 75/100\n",
            "3125/3125 - 3s - loss: 0.3452\n",
            "Epoch 76/100\n",
            "3125/3125 - 3s - loss: 0.3445\n",
            "Epoch 77/100\n",
            "3125/3125 - 3s - loss: 0.3452\n",
            "Epoch 78/100\n",
            "3125/3125 - 3s - loss: 0.3449\n",
            "Epoch 79/100\n",
            "3125/3125 - 3s - loss: 0.3450\n",
            "Epoch 80/100\n",
            "3125/3125 - 3s - loss: 0.3455\n",
            "Epoch 81/100\n",
            "3125/3125 - 3s - loss: 0.3444\n",
            "Epoch 82/100\n",
            "3125/3125 - 3s - loss: 0.3452\n",
            "Epoch 83/100\n",
            "3125/3125 - 3s - loss: 0.3447\n",
            "Epoch 84/100\n",
            "3125/3125 - 3s - loss: 0.3448\n",
            "Epoch 85/100\n",
            "3125/3125 - 3s - loss: 0.3453\n",
            "Epoch 86/100\n",
            "3125/3125 - 3s - loss: 0.3445\n",
            "Epoch 87/100\n",
            "3125/3125 - 3s - loss: 0.3452\n",
            "Epoch 88/100\n",
            "3125/3125 - 3s - loss: 0.3453\n",
            "Epoch 89/100\n",
            "3125/3125 - 3s - loss: 0.3451\n",
            "Epoch 90/100\n",
            "3125/3125 - 3s - loss: 0.3452\n",
            "Epoch 91/100\n",
            "3125/3125 - 3s - loss: 0.3451\n",
            "Epoch 92/100\n",
            "3125/3125 - 3s - loss: 0.3448\n",
            "Epoch 93/100\n",
            "3125/3125 - 3s - loss: 0.3449\n",
            "Epoch 94/100\n",
            "3125/3125 - 3s - loss: 0.3446\n",
            "Epoch 95/100\n",
            "3125/3125 - 3s - loss: 0.3452\n",
            "Epoch 96/100\n",
            "3125/3125 - 3s - loss: 0.3446\n",
            "Epoch 97/100\n",
            "3125/3125 - 3s - loss: 0.3444\n",
            "Epoch 98/100\n",
            "3125/3125 - 3s - loss: 0.3456\n",
            "Epoch 99/100\n",
            "3125/3125 - 3s - loss: 0.3444\n",
            "Epoch 100/100\n",
            "3125/3125 - 3s - loss: 0.3453\n"
          ],
          "name": "stdout"
        },
        {
          "output_type": "execute_result",
          "data": {
            "text/plain": [
              "<tensorflow.python.keras.callbacks.History at 0x7f1bf39d11d0>"
            ]
          },
          "metadata": {
            "tags": []
          },
          "execution_count": 5
        }
      ]
    },
    {
      "cell_type": "markdown",
      "metadata": {
        "id": "1I-wp2KFYlHO",
        "colab_type": "text"
      },
      "source": [
        "Extract the weights and bias"
      ]
    },
    {
      "cell_type": "markdown",
      "metadata": {
        "id": "CWlabvMbYu4K",
        "colab_type": "text"
      },
      "source": [
        "Extracting the weight(s) and bias(es) of a model is not an essential step for the machine learning process. In fact, usually they would not tell us much in a deep learning context. However, this simple example was set up in a way, which allows us to verify if the answers we get are correct."
      ]
    },
    {
      "cell_type": "code",
      "metadata": {
        "id": "ZYWK4TZGXhCI",
        "colab_type": "code",
        "colab": {
          "base_uri": "https://localhost:8080/",
          "height": 345
        },
        "outputId": "093e28b2-de30-4c1f-fe26-cb1e44bcde7a"
      },
      "source": [
        "# Extracting the weights and biases is achieved quite easily\n",
        "print(model.layers[0].get_weights())\n",
        "# We can save the weights and biases in separate variables for easier examination\n",
        "# Note that there can be hundreds or thousands of them!\n",
        "weights = model.layers[0].get_weights()[0]\n",
        "print(weights)\n",
        "# We can save the weights and biases in separate variables for easier examination\n",
        "# Note that there can be hundreds or thousands of them!\n",
        "bias = model.layers[0].get_weights()[1]\n",
        "print(bias)\n",
        "# We can predict new values in order to actually make use of the model\n",
        "# Sometimes it is useful to round the values to be able to read the output\n",
        "# Usually we use this method on NEW DATA, rather than our original training data\n",
        "print(model.predict_on_batch(data['inputs']).round(1))\n",
        "# If we display our targets (actual observed values), we can manually compare the outputs and the targets\n",
        "print(data['targets'].round(1))"
      ],
      "execution_count": 8,
      "outputs": [
        {
          "output_type": "stream",
          "text": [
            "[array([[ 1.9917108],\n",
            "       [-2.9954576]], dtype=float32), array([5.007972], dtype=float32)]\n",
            "[[ 1.9917108]\n",
            " [-2.9954576]]\n",
            "[5.007972]\n",
            "[[ -0.6]\n",
            " [ 26.3]\n",
            " [  9. ]\n",
            " ...\n",
            " [-25. ]\n",
            " [ 24.1]\n",
            " [  5.6]]\n",
            "[[ -0.9]\n",
            " [ 25.7]\n",
            " [  8.4]\n",
            " ...\n",
            " [-24.7]\n",
            " [ 24.8]\n",
            " [  5.5]]\n"
          ],
          "name": "stdout"
        }
      ]
    },
    {
      "cell_type": "markdown",
      "metadata": {
        "id": "EM8iu7jzZKY1",
        "colab_type": "text"
      },
      "source": [
        "Plotting "
      ]
    },
    {
      "cell_type": "code",
      "metadata": {
        "id": "N_5JMXq4ZJfy",
        "colab_type": "code",
        "colab": {
          "base_uri": "https://localhost:8080/",
          "height": 283
        },
        "outputId": "891ce85f-6936-4a3a-be8c-303a5a64cdd0"
      },
      "source": [
        "# The model is optimized, so the outputs are calculated based on the last form of the model\n",
        "\n",
        "# We have to np.squeeze the arrays in order to fit them to what the plot function expects.\n",
        "# Doesn't change anything as we cut dimensions of size 1 - just a technicality.\n",
        "plt.plot(np.squeeze(model.predict_on_batch(data['inputs'])), np.squeeze(data['targets']))\n",
        "plt.xlabel('outputs')\n",
        "plt.ylabel('targets')\n",
        "plt.show()\n",
        "\n"
      ],
      "execution_count": 10,
      "outputs": [
        {
          "output_type": "display_data",
          "data": {
            "image/png": "[encoded data removed]",
            "text/plain": [
              "<Figure size 432x288 with 1 Axes>"
            ]
          },
          "metadata": {
            "tags": [],
            "needs_background": "light"
          }
        }
      ]
    },
    {
      "cell_type": "code",
      "metadata": {
        "id": "z9IuBoZ9cW22",
        "colab_type": "code",
        "colab": {}
      },
      "source": [
        ""
      ],
      "execution_count": 0,
      "outputs": []
    }
  ]
}